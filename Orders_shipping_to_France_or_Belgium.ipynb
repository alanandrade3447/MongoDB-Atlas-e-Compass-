{
 "cells": [
  {
   "cell_type": "code",
   "execution_count": 1,
   "metadata": {},
   "outputs": [],
   "source": [
    "import pymongo \n",
    "from pymongo import MongoClient\n",
    "import pandas as pd\n",
    "import re\n"
   ]
  },
  {
   "cell_type": "code",
   "execution_count": 2,
   "metadata": {},
   "outputs": [],
   "source": [
    "client = pymongo.MongoClient('mongodb://localhost:27017/')"
   ]
  },
  {
   "cell_type": "code",
   "execution_count": 8,
   "metadata": {},
   "outputs": [],
   "source": [
    "db = client['Northwind']\n",
    "collection = db['orders']"
   ]
  },
  {
   "cell_type": "code",
   "execution_count": 9,
   "metadata": {},
   "outputs": [],
   "source": [
    "pipeline = [\n",
    "            {\n",
    "                '$match': {\n",
    "                    'ShipCountry': {\n",
    "                        '$in': [\n",
    "                            'France', 'Belgium'\n",
    "                        ]\n",
    "                    }\n",
    "                }\n",
    "            }, \n",
    "            {\n",
    "                '$project': {\n",
    "                    'OrderID': 1, \n",
    "                    'CustomerID': 1, \n",
    "                    'ShipCountry': 1\n",
    "                }\n",
    "            }\n",
    "           ]"
   ]
  },
  {
   "cell_type": "code",
   "execution_count": 10,
   "metadata": {},
   "outputs": [],
   "source": [
    "result = collection.aggregate(pipeline)"
   ]
  },
  {
   "cell_type": "code",
   "execution_count": 11,
   "metadata": {},
   "outputs": [],
   "source": [
    "df = pd.DataFrame(result)"
   ]
  },
  {
   "cell_type": "code",
   "execution_count": 12,
   "metadata": {},
   "outputs": [
    {
     "name": "stdout",
     "output_type": "stream",
     "text": [
      "                         _id OrderID CustomerID ShipCountry\n",
      "0   64277840e1b930311ded9afa   10248      VINET      France\n",
      "1   64277840e1b930311ded9b14   10274      VINET      France\n",
      "2   64277840e1b930311ded9b29   10295      VINET      France\n",
      "3   64277840e1b930311ded9b60   10350      LAMAI      France\n",
      "4   64277840e1b930311ded9b68   10358      LAMAI      France\n",
      "5   64277840e1b930311ded9b75   10371      LAMAI      France\n",
      "6   64277840e1b930311ded9b9f   10413      LAMAI      France\n",
      "7   64277840e1b930311ded9bab   10425      LAMAI      France\n",
      "8   64277840e1b930311ded9bc8   10454      LAMAI      France\n",
      "9   64277840e1b930311ded9bef   10493      LAMAI      France\n",
      "10  64277840e1b930311ded9bf6   10500      LAMAI      France\n",
      "11  64277840e1b930311ded9c13   10529      MAISD     Belgium\n",
      "12  64277840e1b930311ded9c64   10610      LAMAI      France\n",
      "13  64277840e1b930311ded9c79   10631      LAMAI      France\n",
      "14  64277840e1b930311ded9c8b   10649      MAISD     Belgium\n",
      "15  64277840e1b930311ded9ce3   10737      VINET      France\n",
      "16  64277840e1b930311ded9ce5   10739      VINET      France\n",
      "17  64277840e1b930311ded9cfa   10760      MAISD     Belgium\n",
      "18  64277840e1b930311ded9d15   10787      LAMAI      France\n",
      "19  64277840e1b930311ded9d42   10832      LAMAI      France\n",
      "20  64277840e1b930311ded9d7e   10892      MAISD     Belgium\n",
      "21  64277840e1b930311ded9d82   10896      MAISD     Belgium\n",
      "22  64277840e1b930311ded9d9d   10923      LAMAI      France\n",
      "23  64277840e1b930311ded9dd4   10978      MAISD     Belgium\n",
      "24  64277840e1b930311ded9dee   11004      MAISD     Belgium\n",
      "25  64277840e1b930311ded9e1d   11051      LAMAI      France\n"
     ]
    }
   ],
   "source": [
    "print(df)"
   ]
  }
 ],
 "metadata": {
  "kernelspec": {
   "display_name": "Python 3",
   "language": "python",
   "name": "python3"
  },
  "language_info": {
   "codemirror_mode": {
    "name": "ipython",
    "version": 3
   },
   "file_extension": ".py",
   "mimetype": "text/x-python",
   "name": "python",
   "nbconvert_exporter": "python",
   "pygments_lexer": "ipython3",
   "version": "3.10.10"
  },
  "orig_nbformat": 4
 },
 "nbformat": 4,
 "nbformat_minor": 2
}
