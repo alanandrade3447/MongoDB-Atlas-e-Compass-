{
 "cells": [
  {
   "cell_type": "code",
   "execution_count": 3,
   "metadata": {},
   "outputs": [],
   "source": [
    "import pymongo\n",
    "from pymongo import MongoClient\n",
    "import pandas as pd\n",
    "import re"
   ]
  },
  {
   "cell_type": "code",
   "execution_count": 4,
   "metadata": {},
   "outputs": [],
   "source": [
    "client = pymongo.MongoClient('mongodb://localhost:27017/')"
   ]
  },
  {
   "cell_type": "code",
   "execution_count": 5,
   "metadata": {},
   "outputs": [],
   "source": [
    "db = client['Northwind']\n",
    "collection = db['employees']"
   ]
  },
  {
   "cell_type": "code",
   "execution_count": 6,
   "metadata": {},
   "outputs": [],
   "source": [
    "pipeline=[\n",
    "    {\n",
    "        '$project':{\n",
    "            'FirstName':1,\n",
    "            'LastName':1,\n",
    "            'Title':1,\n",
    "            'BirthDate':1\n",
    "        }\n",
    "    }    \n",
    "]\n"
   ]
  },
  {
   "cell_type": "code",
   "execution_count": 7,
   "metadata": {},
   "outputs": [],
   "source": [
    "result = collection.aggregate(pipeline)"
   ]
  },
  {
   "cell_type": "code",
   "execution_count": 8,
   "metadata": {},
   "outputs": [],
   "source": [
    "df = pd.DataFrame(list(result))"
   ]
  },
  {
   "cell_type": "code",
   "execution_count": 9,
   "metadata": {},
   "outputs": [
    {
     "name": "stdout",
     "output_type": "stream",
     "text": [
      "                        _id   LastName FirstName                     Title   \n",
      "0  6496239aaf2764cbb4dd6651    Davolio     Nancy      Sales Representative  \\\n",
      "1  6496239aaf2764cbb4dd6652     Fuller    Andrew     Vice President. Sales   \n",
      "2  6496239aaf2764cbb4dd6653  Leverling     Janet      Sales Representative   \n",
      "3  6496239aaf2764cbb4dd6654    Peacock  Margaret      Sales Representative   \n",
      "4  6496239aaf2764cbb4dd6655   Buchanan    Steven             Sales Manager   \n",
      "5  6496239aaf2764cbb4dd6656     Suyama   Michael      Sales Representative   \n",
      "6  6496239aaf2764cbb4dd6657       King    Robert      Sales Representative   \n",
      "7  6496239aaf2764cbb4dd6658   Callahan     Laura  Inside Sales Coordinator   \n",
      "8  6496239aaf2764cbb4dd6659  Dodsworth      Anne      Sales Representative   \n",
      "\n",
      "                 BirthDate  \n",
      "0  1948-12-08 00:00:00.000  \n",
      "1  1952-02-19 00:00:00.000  \n",
      "2  1963-08-30 00:00:00.000  \n",
      "3  1937-09-19 00:00:00.000  \n",
      "4  1955-03-04 00:00:00.000  \n",
      "5  1963-07-02 00:00:00.000  \n",
      "6  1960-05-29 00:00:00.000  \n",
      "7  1958-01-09 00:00:00.000  \n",
      "8  1966-01-27 00:00:00.000  \n"
     ]
    }
   ],
   "source": [
    "print(df)"
   ]
  }
 ],
 "metadata": {
  "kernelspec": {
   "display_name": "Python 3",
   "language": "python",
   "name": "python3"
  },
  "language_info": {
   "codemirror_mode": {
    "name": "ipython",
    "version": 3
   },
   "file_extension": ".py",
   "mimetype": "text/x-python",
   "name": "python",
   "nbconvert_exporter": "python",
   "pygments_lexer": "ipython3",
   "version": "3.10.10"
  },
  "orig_nbformat": 4
 },
 "nbformat": 4,
 "nbformat_minor": 2
}
