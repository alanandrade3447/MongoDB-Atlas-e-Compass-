{
 "cells": [
  {
   "cell_type": "code",
   "execution_count": 33,
   "metadata": {},
   "outputs": [],
   "source": [
    "import pymongo\n",
    "from pymongo import MongoClient\n",
    "import pandas as pd\n",
    "import re"
   ]
  },
  {
   "cell_type": "code",
   "execution_count": 34,
   "metadata": {},
   "outputs": [],
   "source": [
    "client = pymongo.MongoClient('mongodb://localhost:27017/')"
   ]
  },
  {
   "cell_type": "code",
   "execution_count": 35,
   "metadata": {},
   "outputs": [],
   "source": [
    "db = client['Northwind']\n",
    "collection = db['suppliers']"
   ]
  },
  {
   "cell_type": "code",
   "execution_count": 36,
   "metadata": {},
   "outputs": [
    {
     "data": {
      "text/plain": [
       "[{'$match': {'ContactTitle': {'$ne': 'Marketing Manager'}}},\n",
       " {'$project': {'SupplierID': 1, 'ContactName': 1, 'ContactTitle': 1}}]"
      ]
     },
     "execution_count": 36,
     "metadata": {},
     "output_type": "execute_result"
    }
   ],
   "source": [
    "[\n",
    "    {\n",
    "        '$match': {\n",
    "            'ContactTitle': {\n",
    "                '$ne': 'Marketing Manager'\n",
    "            }\n",
    "        }\n",
    "    }, {\n",
    "        '$project': {\n",
    "            'SupplierID': 1, \n",
    "            'ContactName': 1, \n",
    "            'ContactTitle': 1\n",
    "        }\n",
    "    }\n",
    "]"
   ]
  },
  {
   "cell_type": "code",
   "execution_count": 37,
   "metadata": {},
   "outputs": [],
   "source": [
    "result = collection.aggregate(pipeline)"
   ]
  },
  {
   "cell_type": "code",
   "execution_count": 38,
   "metadata": {},
   "outputs": [],
   "source": [
    "df = pd.DataFrame(list(result))"
   ]
  },
  {
   "cell_type": "code",
   "execution_count": 39,
   "metadata": {},
   "outputs": [
    {
     "name": "stdout",
     "output_type": "stream",
     "text": [
      "                         _id SupplierID                 ContactName   \n",
      "0   64277b62e1b930311ded9e90          1            Charlotte Cooper  \\\n",
      "1   64277b62e1b930311ded9e91          2               Shelley Burke   \n",
      "2   64277b62e1b930311ded9e92          3               Regina Murphy   \n",
      "3   64277b62e1b930311ded9e93          4                Yoshi Nagase   \n",
      "4   64277b62e1b930311ded9e94          5  Antonio del Valle Saavedra   \n",
      "5   64277b62e1b930311ded9e95          6                 Mayumi Ohno   \n",
      "6   64277b62e1b930311ded9e96          7                        Ltd.   \n",
      "7   64277b62e1b930311ded9e97          8                        Ltd.   \n",
      "8   64277b62e1b930311ded9e98          9               Lars Peterson   \n",
      "9   64277b62e1b930311ded9e99         10                 Carlos Diaz   \n",
      "10  64277b62e1b930311ded9e9a         11               Petra Winkler   \n",
      "11  64277b62e1b930311ded9e9b         12                 Martin Bein   \n",
      "12  64277b62e1b930311ded9e9c         13               Sven Petersen   \n",
      "13  64277b62e1b930311ded9e9d         14                  Elio Rossi   \n",
      "14  64277b62e1b930311ded9e9e         15                Beate Vileid   \n",
      "15  64277b62e1b930311ded9e9f         16               Cheryl Saylor   \n",
      "16  64277b62e1b930311ded9ea0         17               Michael Björn   \n",
      "17  64277b62e1b930311ded9ea1         18              Guylène Nodier   \n",
      "18  64277b62e1b930311ded9ea2         19               Robb Merchant   \n",
      "19  64277b62e1b930311ded9ea3         20                Chandra Leka   \n",
      "20  64277b62e1b930311ded9ea4         21              Niels Petersen   \n",
      "21  64277b62e1b930311ded9ea5         22                 Dirk Luchte   \n",
      "22  64277b62e1b930311ded9ea6         23              Anne Heikkonen   \n",
      "23  64277b62e1b930311ded9ea7         24                        Mate   \n",
      "24  64277b62e1b930311ded9ea8         25             Jean-Guy Lauzon   \n",
      "25  64277b62e1b930311ded9ea9         26            Giovanni Giudici   \n",
      "26  64277b62e1b930311ded9eaa         27              Marie Delamare   \n",
      "27  64277b62e1b930311ded9eab         28                  Eliane Noz   \n",
      "28  64277b62e1b930311ded9eac         29              Chantal Goulet   \n",
      "\n",
      "                    ContactTitle  \n",
      "0             Purchasing Manager  \n",
      "1            Order Administrator  \n",
      "2           Sales Representative  \n",
      "3              Marketing Manager  \n",
      "4           Export Administrator  \n",
      "5       Marketing Representative  \n",
      "6                    Ian Devling  \n",
      "7                   Peter Wilson  \n",
      "8                    Sales Agent  \n",
      "9              Marketing Manager  \n",
      "10                 Sales Manager  \n",
      "11  International Marketing Mgr.  \n",
      "12   Coordinator Foreign Markets  \n",
      "13          Sales Representative  \n",
      "14             Marketing Manager  \n",
      "15         Regional Account Rep.  \n",
      "16          Sales Representative  \n",
      "17                 Sales Manager  \n",
      "18       Wholesale Account Agent  \n",
      "19                         Owner  \n",
      "20                 Sales Manager  \n",
      "21            Accounting Manager  \n",
      "22               Product Manager  \n",
      "23               Wendy Mackenzie  \n",
      "24             Marketing Manager  \n",
      "25           Order Administrator  \n",
      "26                 Sales Manager  \n",
      "27          Sales Representative  \n",
      "28            Accounting Manager  \n"
     ]
    }
   ],
   "source": [
    "print(df)"
   ]
  }
 ],
 "metadata": {
  "kernelspec": {
   "display_name": "Python 3",
   "language": "python",
   "name": "python3"
  },
  "language_info": {
   "codemirror_mode": {
    "name": "ipython",
    "version": 3
   },
   "file_extension": ".py",
   "mimetype": "text/x-python",
   "name": "python",
   "nbconvert_exporter": "python",
   "pygments_lexer": "ipython3",
   "version": "3.10.10"
  },
  "orig_nbformat": 4
 },
 "nbformat": 4,
 "nbformat_minor": 2
}
