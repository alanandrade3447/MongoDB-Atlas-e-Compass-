{
 "cells": [
  {
   "cell_type": "code",
   "execution_count": 1,
   "metadata": {},
   "outputs": [],
   "source": [
    "import pymongo\n",
    "from pymongo import MongoClient\n",
    "import pandas as pd"
   ]
  },
  {
   "cell_type": "code",
   "execution_count": 2,
   "metadata": {},
   "outputs": [],
   "source": [
    "client = pymongo.MongoClient('mongodb://localhost:27017/')\n"
   ]
  },
  {
   "cell_type": "code",
   "execution_count": 37,
   "metadata": {},
   "outputs": [],
   "source": [
    "db = client['Northwind']\n",
    "collection = db['employees']"
   ]
  },
  {
   "cell_type": "code",
   "execution_count": 38,
   "metadata": {},
   "outputs": [],
   "source": [
    "pipeline = [\n",
    "        {\n",
    "            '$match':{\n",
    "                'Title':'Sales Representative'\n",
    "            }\n",
    "        },\n",
    "        {\n",
    "            '$project':{\n",
    "                'LastName':1,\n",
    "                'FirstName':1,\n",
    "                'HireDate':1\n",
    "            }\n",
    "        }\n",
    "]"
   ]
  },
  {
   "cell_type": "code",
   "execution_count": 39,
   "metadata": {},
   "outputs": [],
   "source": [
    "result = collection.aggregate(pipeline)"
   ]
  },
  {
   "cell_type": "code",
   "execution_count": 40,
   "metadata": {},
   "outputs": [],
   "source": [
    "df = pd.DataFrame(list(result))"
   ]
  },
  {
   "cell_type": "code",
   "execution_count": 41,
   "metadata": {},
   "outputs": [],
   "source": [
    "df = df[['FirstName', 'LastName', 'HireDate']]"
   ]
  },
  {
   "cell_type": "code",
   "execution_count": 42,
   "metadata": {},
   "outputs": [],
   "source": [
    "styles = [\n",
    "    {'selector': 'th.col_heading',\n",
    "     'props': [('text-align', 'center')]}\n",
    "]"
   ]
  },
  {
   "cell_type": "code",
   "execution_count": 48,
   "metadata": {},
   "outputs": [],
   "source": [
    "styled_df = df.style.set_table_styles(styles)\n"
   ]
  },
  {
   "cell_type": "code",
   "execution_count": 49,
   "metadata": {},
   "outputs": [
    {
     "data": {
      "text/html": [
       "<style  type=\"text/css\" >\n",
       "    #T_f24f3524_ef53_11ed_aae1_641c67629d55 th.col_heading {\n",
       "          text-align: center;\n",
       "    }</style><table id=\"T_f24f3524_ef53_11ed_aae1_641c67629d55\" ><thead>    <tr>        <th class=\"blank level0\" ></th>        <th class=\"col_heading level0 col0\" >FirstName</th>        <th class=\"col_heading level0 col1\" >LastName</th>        <th class=\"col_heading level0 col2\" >HireDate</th>    </tr></thead><tbody>\n",
       "                <tr>\n",
       "                        <th id=\"T_f24f3524_ef53_11ed_aae1_641c67629d55level0_row0\" class=\"row_heading level0 row0\" >0</th>\n",
       "                        <td id=\"T_f24f3524_ef53_11ed_aae1_641c67629d55row0_col0\" class=\"data row0 col0\" >Nancy</td>\n",
       "                        <td id=\"T_f24f3524_ef53_11ed_aae1_641c67629d55row0_col1\" class=\"data row0 col1\" >Davolio</td>\n",
       "                        <td id=\"T_f24f3524_ef53_11ed_aae1_641c67629d55row0_col2\" class=\"data row0 col2\" >1992-05-01 00:00:00.000</td>\n",
       "            </tr>\n",
       "            <tr>\n",
       "                        <th id=\"T_f24f3524_ef53_11ed_aae1_641c67629d55level0_row1\" class=\"row_heading level0 row1\" >1</th>\n",
       "                        <td id=\"T_f24f3524_ef53_11ed_aae1_641c67629d55row1_col0\" class=\"data row1 col0\" >Janet</td>\n",
       "                        <td id=\"T_f24f3524_ef53_11ed_aae1_641c67629d55row1_col1\" class=\"data row1 col1\" >Leverling</td>\n",
       "                        <td id=\"T_f24f3524_ef53_11ed_aae1_641c67629d55row1_col2\" class=\"data row1 col2\" >1992-04-01 00:00:00.000</td>\n",
       "            </tr>\n",
       "            <tr>\n",
       "                        <th id=\"T_f24f3524_ef53_11ed_aae1_641c67629d55level0_row2\" class=\"row_heading level0 row2\" >2</th>\n",
       "                        <td id=\"T_f24f3524_ef53_11ed_aae1_641c67629d55row2_col0\" class=\"data row2 col0\" >Margaret</td>\n",
       "                        <td id=\"T_f24f3524_ef53_11ed_aae1_641c67629d55row2_col1\" class=\"data row2 col1\" >Peacock</td>\n",
       "                        <td id=\"T_f24f3524_ef53_11ed_aae1_641c67629d55row2_col2\" class=\"data row2 col2\" >1993-05-03 00:00:00.000</td>\n",
       "            </tr>\n",
       "            <tr>\n",
       "                        <th id=\"T_f24f3524_ef53_11ed_aae1_641c67629d55level0_row3\" class=\"row_heading level0 row3\" >3</th>\n",
       "                        <td id=\"T_f24f3524_ef53_11ed_aae1_641c67629d55row3_col0\" class=\"data row3 col0\" >Michael</td>\n",
       "                        <td id=\"T_f24f3524_ef53_11ed_aae1_641c67629d55row3_col1\" class=\"data row3 col1\" >Suyama</td>\n",
       "                        <td id=\"T_f24f3524_ef53_11ed_aae1_641c67629d55row3_col2\" class=\"data row3 col2\" >1993-10-17 00:00:00.000</td>\n",
       "            </tr>\n",
       "            <tr>\n",
       "                        <th id=\"T_f24f3524_ef53_11ed_aae1_641c67629d55level0_row4\" class=\"row_heading level0 row4\" >4</th>\n",
       "                        <td id=\"T_f24f3524_ef53_11ed_aae1_641c67629d55row4_col0\" class=\"data row4 col0\" >Robert</td>\n",
       "                        <td id=\"T_f24f3524_ef53_11ed_aae1_641c67629d55row4_col1\" class=\"data row4 col1\" >King</td>\n",
       "                        <td id=\"T_f24f3524_ef53_11ed_aae1_641c67629d55row4_col2\" class=\"data row4 col2\" >1994-01-02 00:00:00.000</td>\n",
       "            </tr>\n",
       "            <tr>\n",
       "                        <th id=\"T_f24f3524_ef53_11ed_aae1_641c67629d55level0_row5\" class=\"row_heading level0 row5\" >5</th>\n",
       "                        <td id=\"T_f24f3524_ef53_11ed_aae1_641c67629d55row5_col0\" class=\"data row5 col0\" >Anne</td>\n",
       "                        <td id=\"T_f24f3524_ef53_11ed_aae1_641c67629d55row5_col1\" class=\"data row5 col1\" >Dodsworth</td>\n",
       "                        <td id=\"T_f24f3524_ef53_11ed_aae1_641c67629d55row5_col2\" class=\"data row5 col2\" >1994-11-15 00:00:00.000</td>\n",
       "            </tr>\n",
       "    </tbody></table>"
      ],
      "text/plain": [
       "<pandas.io.formats.style.Styler at 0x23837287b70>"
      ]
     },
     "execution_count": 49,
     "metadata": {},
     "output_type": "execute_result"
    }
   ],
   "source": [
    "styled_df"
   ]
  },
  {
   "cell_type": "code",
   "execution_count": 50,
   "metadata": {},
   "outputs": [
    {
     "name": "stdout",
     "output_type": "stream",
     "text": [
      "  FirstName   LastName                 HireDate\n",
      "0     Nancy    Davolio  1992-05-01 00:00:00.000\n",
      "1     Janet  Leverling  1992-04-01 00:00:00.000\n",
      "2  Margaret    Peacock  1993-05-03 00:00:00.000\n",
      "3   Michael     Suyama  1993-10-17 00:00:00.000\n",
      "4    Robert       King  1994-01-02 00:00:00.000\n",
      "5      Anne  Dodsworth  1994-11-15 00:00:00.000\n"
     ]
    }
   ],
   "source": [
    "print(df)"
   ]
  }
 ],
 "metadata": {
  "kernelspec": {
   "display_name": "Python 3",
   "language": "python",
   "name": "python3"
  },
  "language_info": {
   "codemirror_mode": {
    "name": "ipython",
    "version": 3
   },
   "file_extension": ".py",
   "mimetype": "text/x-python",
   "name": "python",
   "nbconvert_exporter": "python",
   "pygments_lexer": "ipython3",
   "version": "3.7.0"
  },
  "orig_nbformat": 4
 },
 "nbformat": 4,
 "nbformat_minor": 2
}
