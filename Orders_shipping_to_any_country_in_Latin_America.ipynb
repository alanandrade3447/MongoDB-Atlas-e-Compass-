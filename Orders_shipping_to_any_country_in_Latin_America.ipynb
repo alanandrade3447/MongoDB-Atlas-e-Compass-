{
 "cells": [
  {
   "cell_type": "code",
   "execution_count": 23,
   "metadata": {},
   "outputs": [],
   "source": [
    "import pymongo\n",
    "from pymongo import MongoClient\n",
    "import pandas as pd\n",
    "import re"
   ]
  },
  {
   "cell_type": "code",
   "execution_count": 24,
   "metadata": {},
   "outputs": [],
   "source": [
    "client = pymongo.MongoClient('mongodb://localhost:27017/')"
   ]
  },
  {
   "cell_type": "code",
   "execution_count": 25,
   "metadata": {},
   "outputs": [],
   "source": [
    "db = client['Northwind']\n",
    "collection = db['orders']"
   ]
  },
  {
   "cell_type": "code",
   "execution_count": 26,
   "metadata": {},
   "outputs": [],
   "source": [
    "pipeline=[\n",
    "            {\n",
    "                '$match': {\n",
    "                    'ShipCountry': {\n",
    "                        '$in': [\n",
    "                            'Brazil', 'Mexico', 'Argentina', 'Venezuela'\n",
    "                        ]\n",
    "                    }\n",
    "                }\n",
    "            }, {\n",
    "                '$project': {\n",
    "                    'OrderID': 1, \n",
    "                    'CustomerID': 1, \n",
    "                    'ShipCountry': 1\n",
    "                }\n",
    "            }\n",
    "         ]"
   ]
  },
  {
   "cell_type": "code",
   "execution_count": 27,
   "metadata": {},
   "outputs": [],
   "source": [
    "result = collection.aggregate(pipeline)"
   ]
  },
  {
   "cell_type": "code",
   "execution_count": 28,
   "metadata": {},
   "outputs": [],
   "source": [
    "df = pd.DataFrame(result)"
   ]
  },
  {
   "cell_type": "code",
   "execution_count": 29,
   "metadata": {},
   "outputs": [
    {
     "name": "stdout",
     "output_type": "stream",
     "text": [
      "                          _id  OrderID CustomerID ShipCountry\n",
      "0    648225acf08463a075d5160e    10250      HANAR      Brazil\n",
      "1    648225acf08463a075d51611    10253      HANAR      Brazil\n",
      "2    648225acf08463a075d51614    10256      WELLI      Brazil\n",
      "3    648225acf08463a075d51615    10257      HILAA   Venezuela\n",
      "4    648225acf08463a075d51617    10259      CENTC      Mexico\n",
      "..                        ...      ...        ...         ...\n",
      "168  648225acf08463a075d5193d    11065      LILAS   Venezuela\n",
      "169  648225acf08463a075d51940    11068      QUEEN      Brazil\n",
      "170  648225acf08463a075d51941    11069      TORTU      Mexico\n",
      "171  648225acf08463a075d51943    11071      LILAS   Venezuela\n",
      "172  648225acf08463a075d51945    11073      PERIC      Mexico\n",
      "\n",
      "[173 rows x 4 columns]\n"
     ]
    }
   ],
   "source": [
    "print(df)"
   ]
  }
 ],
 "metadata": {
  "kernelspec": {
   "display_name": "Python 3",
   "language": "python",
   "name": "python3"
  },
  "language_info": {
   "codemirror_mode": {
    "name": "ipython",
    "version": 3
   },
   "file_extension": ".py",
   "mimetype": "text/x-python",
   "name": "python",
   "nbconvert_exporter": "python",
   "pygments_lexer": "ipython3",
   "version": "3.10.10"
  },
  "orig_nbformat": 4
 },
 "nbformat": 4,
 "nbformat_minor": 2
}
